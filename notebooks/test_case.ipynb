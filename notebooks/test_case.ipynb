{
 "cells": [
  {
   "cell_type": "code",
   "execution_count": 1,
   "metadata": {},
   "outputs": [],
   "source": [
    "import sys\n",
    "sys.path.append(\"../src\")\n",
    "\n",
    "from cashier import Item, Transaction"
   ]
  },
  {
   "cell_type": "markdown",
   "metadata": {},
   "source": [
    "# Test 1\n",
    "Customer wants to add 2 new items using `add_item()` method."
   ]
  },
  {
   "cell_type": "code",
   "execution_count": 2,
   "metadata": {},
   "outputs": [
    {
     "name": "stdout",
     "output_type": "stream",
     "text": [
      "Ayam Goreng pcs of 2 with unit price 20000 added.\n",
      "Pasta Gigi pcs of 3 with unit price 15000 added.\n",
      "\n",
      "\n",
      "| Item Name   |   Quantity |   Price |   Total Price |\n",
      "|-------------|------------|---------|---------------|\n",
      "| Ayam Goreng |          2 |   20000 |         40000 |\n",
      "| Pasta Gigi  |          3 |   15000 |         45000 |\n"
     ]
    }
   ],
   "source": [
    "transaction = Transaction()\n",
    "transaction.add_item(\"Ayam Goreng\", 2, 20000)\n",
    "transaction.add_item(\"Pasta Gigi\", 3, 15000)\n",
    "transaction.check_order()"
   ]
  },
  {
   "cell_type": "markdown",
   "metadata": {},
   "source": [
    "# Test 2\n",
    "Then, customer want to cancel `Pasta Gigi`, so he/she wants to use `delete_item()` method to remove it."
   ]
  },
  {
   "cell_type": "code",
   "execution_count": 3,
   "metadata": {},
   "outputs": [
    {
     "name": "stdout",
     "output_type": "stream",
     "text": [
      "Pasta Gigi deleted.\n",
      "\n",
      "\n",
      "| Item Name   |   Quantity |   Price |   Total Price |\n",
      "|-------------|------------|---------|---------------|\n",
      "| Ayam Goreng |          2 |   20000 |         40000 |\n"
     ]
    }
   ],
   "source": [
    "transaction.delete_item(\"Pasta Gigi\")\n",
    "transaction.check_order()"
   ]
  },
  {
   "cell_type": "markdown",
   "metadata": {},
   "source": [
    "# Test 3\n",
    "Turns out customer wants to remove all items, so he/she needs to use `reset_transaction()` method."
   ]
  },
  {
   "cell_type": "code",
   "execution_count": 5,
   "metadata": {},
   "outputs": [
    {
     "name": "stdout",
     "output_type": "stream",
     "text": [
      "Transaction is reset.\n"
     ]
    },
    {
     "data": {
      "text/plain": [
       "0"
      ]
     },
     "execution_count": 5,
     "metadata": {},
     "output_type": "execute_result"
    }
   ],
   "source": [
    "transaction.reset_transaction()\n",
    "len(transaction.transaction_details)"
   ]
  },
  {
   "cell_type": "markdown",
   "metadata": {},
   "source": [
    "# Test 4\n",
    "After customer re-input his/her items, customer needs to calculate how much he/she needs to pay using `calculate_total_price()` method."
   ]
  },
  {
   "cell_type": "code",
   "execution_count": 6,
   "metadata": {},
   "outputs": [
    {
     "name": "stdout",
     "output_type": "stream",
     "text": [
      "Ayam Goreng pcs of 2 with unit price 20000 added.\n",
      "Pasta Gigi pcs of 3 with unit price 15000 added.\n",
      "Daging Sapi (3 kg) pcs of 1 with unit price 200000 added.\n",
      "\n",
      "\n",
      "| Item Name          |   Quantity |   Price |   Total Price |\n",
      "|--------------------|------------|---------|---------------|\n",
      "| Ayam Goreng        |          2 |   20000 |         40000 |\n",
      "| Pasta Gigi         |          3 |   15000 |         45000 |\n",
      "| Daging Sapi (3 kg) |          1 |  200000 |        200000 |\n",
      "\n",
      "\n",
      "| Description                 |   Value |\n",
      "|-----------------------------|---------|\n",
      "| Total price before discount |  285000 |\n",
      "| Discount (%)                |       5 |\n",
      "| Discount amount             |   14250 |\n",
      "| Total price after discount  |  270750 |\n"
     ]
    },
    {
     "data": {
      "text/plain": [
       "270750.0"
      ]
     },
     "execution_count": 6,
     "metadata": {},
     "output_type": "execute_result"
    }
   ],
   "source": [
    "transaction = Transaction()\n",
    "transaction.add_item(\"Ayam Goreng\", 2, 20000)\n",
    "transaction.add_item(\"Pasta Gigi\", 3, 15000)\n",
    "transaction.add_item(\"Daging Sapi (3 kg)\", 1, 200000)\n",
    "transaction.calculate_total_price()"
   ]
  }
 ],
 "metadata": {
  "kernelspec": {
   "display_name": "Python 3",
   "language": "python",
   "name": "python3"
  },
  "language_info": {
   "codemirror_mode": {
    "name": "ipython",
    "version": 3
   },
   "file_extension": ".py",
   "mimetype": "text/x-python",
   "name": "python",
   "nbconvert_exporter": "python",
   "pygments_lexer": "ipython3",
   "version": "3.11.3"
  },
  "orig_nbformat": 4
 },
 "nbformat": 4,
 "nbformat_minor": 2
}
